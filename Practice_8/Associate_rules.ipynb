{
 "cells": [
  {
   "cell_type": "markdown",
   "metadata": {},
   "source": [
    "# Ассоциативные правила"
   ]
  },
  {
   "cell_type": "code",
   "execution_count": 1,
   "metadata": {},
   "outputs": [],
   "source": [
    "transactions = [\n",
    "    ['bread', 'milk'],\n",
    "    ['bread', 'diaper', 'beer', 'egg'],\n",
    "    ['milk', 'diaper', 'beer', 'cola'],\n",
    "    ['bread', 'milk', 'diaper', 'beer'],\n",
    "    ['bread', 'milk', 'diaper', 'cola'],\n",
    "]"
   ]
  },
  {
   "cell_type": "markdown",
   "metadata": {},
   "source": [
    "В качестве алгоритма для поиска ассоциативных правил рассмотрим FP-деревья. Они являются оптимизацией Apriori, поэтому будем рассматривать сразу его"
   ]
  },
  {
   "cell_type": "code",
   "execution_count": 2,
   "metadata": {},
   "outputs": [],
   "source": [
    "import pyfpgrowth\n",
    "\n",
    "patterns = pyfpgrowth.find_frequent_patterns(transactions, 2) # найдём все правила, которые встречаются не менее двух раз\n",
    "rules = pyfpgrowth.generate_association_rules(patterns, 0.7) # найдём все следствия из правил, которые происходят не реже чем в 70% случаев"
   ]
  },
  {
   "cell_type": "markdown",
   "metadata": {},
   "source": [
    "Выведем все паттерны. Это наборы таких продуктов, которые покупались вместе не реже 2 раз (т.е. существует как минимум две транзакции, в которых присутствуют оба товара)"
   ]
  },
  {
   "cell_type": "code",
   "execution_count": 3,
   "metadata": {},
   "outputs": [
    {
     "data": {
      "text/plain": [
       "{('cola',): 2,\n",
       " ('cola', 'diaper'): 2,\n",
       " ('cola', 'milk'): 2,\n",
       " ('cola', 'diaper', 'milk'): 2,\n",
       " ('beer', 'bread'): 2,\n",
       " ('beer', 'bread', 'diaper'): 2,\n",
       " ('beer', 'milk'): 2,\n",
       " ('beer', 'diaper', 'milk'): 2,\n",
       " ('beer', 'diaper'): 3,\n",
       " ('bread',): 4,\n",
       " ('milk',): 4,\n",
       " ('bread', 'milk'): 3,\n",
       " ('bread', 'diaper'): 3,\n",
       " ('bread', 'diaper', 'milk'): 2,\n",
       " ('diaper', 'milk'): 3}"
      ]
     },
     "execution_count": 3,
     "metadata": {},
     "output_type": "execute_result"
    }
   ],
   "source": [
    "patterns"
   ]
  },
  {
   "cell_type": "markdown",
   "metadata": {},
   "source": [
    "Посмотрим теперь на ассоциативные правила, которые можно выделить среди таких паттернов"
   ]
  },
  {
   "cell_type": "code",
   "execution_count": 4,
   "metadata": {},
   "outputs": [
    {
     "data": {
      "text/plain": [
       "{('cola',): (('diaper', 'milk'), 1.0),\n",
       " ('cola', 'diaper'): (('milk',), 1.0),\n",
       " ('cola', 'milk'): (('diaper',), 1.0),\n",
       " ('beer', 'bread'): (('diaper',), 1.0),\n",
       " ('beer', 'milk'): (('diaper',), 1.0),\n",
       " ('bread',): (('diaper',), 0.75),\n",
       " ('milk',): (('diaper',), 0.75)}"
      ]
     },
     "execution_count": 4,
     "metadata": {},
     "output_type": "execute_result"
    }
   ],
   "source": [
    "rules"
   ]
  },
  {
   "cell_type": "markdown",
   "metadata": {},
   "source": [
    "Этот результат означает, что за покупкой колы в 100% случаев следует покупка и подгузников и молока (первое ассоциативное правило), а за покупкой молока в 75% случаев следует покупка подгузников (последнее ассоциативное правило)"
   ]
  },
  {
   "cell_type": "code",
   "execution_count": null,
   "metadata": {},
   "outputs": [],
   "source": []
  }
 ],
 "metadata": {
  "kernelspec": {
   "display_name": "Python 3",
   "language": "python",
   "name": "python3"
  },
  "language_info": {
   "codemirror_mode": {
    "name": "ipython",
    "version": 3
   },
   "file_extension": ".py",
   "mimetype": "text/x-python",
   "name": "python",
   "nbconvert_exporter": "python",
   "pygments_lexer": "ipython3",
   "version": "3.6.5"
  }
 },
 "nbformat": 4,
 "nbformat_minor": 2
}
